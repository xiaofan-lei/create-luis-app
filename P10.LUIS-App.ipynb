{
 "cells": [
  {
   "cell_type": "markdown",
   "id": "460af91d",
   "metadata": {},
   "source": [
    "## Define the dependencies"
   ]
  },
  {
   "cell_type": "code",
   "execution_count": 1,
   "id": "6fcf6b66",
   "metadata": {},
   "outputs": [],
   "source": [
    "import json\n",
    "import pandas as pd\n",
    "import random\n",
    "import numpy as np\n",
    "import re"
   ]
  },
  {
   "cell_type": "code",
   "execution_count": 2,
   "id": "342acb2b",
   "metadata": {},
   "outputs": [],
   "source": [
    "from azure.cognitiveservices.language.luis.authoring import LUISAuthoringClient\n",
    "from azure.cognitiveservices.language.luis.authoring.models import ApplicationCreateObject\n",
    "from azure.cognitiveservices.language.luis.runtime import LUISRuntimeClient\n",
    "from msrest.authentication import CognitiveServicesCredentials\n",
    "from functools import reduce\n",
    "\n",
    "import json, time, uuid"
   ]
  },
  {
   "cell_type": "code",
   "execution_count": 3,
   "id": "245f9cd8",
   "metadata": {},
   "outputs": [],
   "source": [
    "from configparser import ConfigParser\n",
    "config = ConfigParser()\n",
    "configFilePath = r'C:\\configfile\\keys_config.cfg'\n",
    "config.read(configFilePath)\n",
    "\n",
    "authoringKey = config.get('azure-luis', 'authoringKey')\n",
    "authoringEndpoint = config.get('azure-luis', 'authoringEndpoint')\n",
    "predictionKey = config.get('azure-luis', 'predictionKey')\n",
    "predictionEndpoint = config.get('azure-luis', 'predictionEndpoint')"
   ]
  },
  {
   "cell_type": "markdown",
   "id": "9dd10767",
   "metadata": {},
   "source": [
    "## Section 1 : import frames file"
   ]
  },
  {
   "cell_type": "code",
   "execution_count": 4,
   "id": "f8a72b92",
   "metadata": {
    "scrolled": true
   },
   "outputs": [
    {
     "name": "stdout",
     "output_type": "stream",
     "text": [
      "Total examples: 1369\n"
     ]
    }
   ],
   "source": [
    "#convert json content to a list\n",
    "fileObject = open(\"frames.json\", \"r\")\n",
    "jsonContent = fileObject.read()\n",
    "aList = json.loads(jsonContent)\n",
    "print(\"Total examples:\", len(aList))"
   ]
  },
  {
   "cell_type": "markdown",
   "id": "d0ccadd0",
   "metadata": {},
   "source": [
    "### 1. Split into train and test sets"
   ]
  },
  {
   "cell_type": "code",
   "execution_count": 5,
   "id": "0ab4a8dd",
   "metadata": {},
   "outputs": [],
   "source": [
    "random.shuffle(aList)\n",
    "train_list = aList[:1300]\n",
    "test_list = aList[1300:]"
   ]
  },
  {
   "cell_type": "markdown",
   "id": "84b5862f",
   "metadata": {},
   "source": [
    "### 2. Convert to luis app import json format"
   ]
  },
  {
   "cell_type": "markdown",
   "id": "6ff26c96",
   "metadata": {},
   "source": [
    "#### 2.1 get utterances"
   ]
  },
  {
   "cell_type": "code",
   "execution_count": 6,
   "id": "4d26c248",
   "metadata": {},
   "outputs": [],
   "source": [
    "def convert_to_luisformat(example):\n",
    "\n",
    "    #1. Get the text\n",
    "    turn1=example['turns'][0]\n",
    "    text = turn1['text']\n",
    "    #2. get all arguments\n",
    "    all_args = turn1['labels']['acts']\n",
    "\n",
    "    #3. remove greetings\n",
    "    names=[]\n",
    "    for i in range(len(all_args)):\n",
    "        name = all_args[i]['name']\n",
    "        names.append(name)\n",
    "        \n",
    "    #combine all arguments in a list\n",
    "    args=[]\n",
    "    for i in range(len(all_args)):\n",
    "        arg = all_args[i]['args']\n",
    "        args.extend(arg)\n",
    "\n",
    "    intent=\"None\"\n",
    "    entities=[]\n",
    "    for i in range(len(args)):\n",
    "        key = args[i]['key']\n",
    "        #intent\n",
    "        if key=='intent':\n",
    "            intent=args[i]['val']\n",
    "        else:\n",
    "            #entities\n",
    "            if 'val' in args[i]:\n",
    "                val = args[i]['val']\n",
    "                pos = re.search(rf'\\b({val})\\b', text)\n",
    "                if pos !=None:\n",
    "                    entity={\n",
    "                          \"startCharIndex\": pos.start(),\n",
    "                          \"endCharIndex\": pos.end()-1,\n",
    "                          \"entityName\": key,\n",
    "                          \"children\": []\n",
    "                            }\n",
    "                    entities.append(entity)\n",
    "\n",
    "\n",
    "    #4. put all together\n",
    "    return {\n",
    "          \"text\": text,\n",
    "          \"intentName\": intent,\n",
    "          \"entityLabels\": entities\n",
    "        }"
   ]
  },
  {
   "cell_type": "code",
   "execution_count": 7,
   "id": "f27e487e",
   "metadata": {
    "scrolled": false
   },
   "outputs": [],
   "source": [
    "train_set= [convert_to_luisformat(example) for example in train_list]"
   ]
  },
  {
   "cell_type": "markdown",
   "id": "a63f0690",
   "metadata": {},
   "source": [
    "#### 2.2 get intent & entity lists"
   ]
  },
  {
   "cell_type": "code",
   "execution_count": 8,
   "id": "a883dca1",
   "metadata": {},
   "outputs": [
    {
     "name": "stdout",
     "output_type": "stream",
     "text": [
      "intentNames: ['None' 'book']\n",
      "entityLabels: ['budget' 'category' 'count_dst_city' 'dst_city' 'end_date' 'max_duration'\n",
      " 'min_duration' 'n_adults' 'n_children' 'or_city' 'seat' 'str_date']\n"
     ]
    }
   ],
   "source": [
    "#1. extract unique intent values from train_set\n",
    "int_list=[]\n",
    "for i in range(len(train_set)):\n",
    "    int_list.append(train_set[i]['intentName'])\n",
    "int_val = np.unique(int_list)\n",
    "print(\"intentNames:\",int_val)\n",
    "    \n",
    "#3. extract unique entity values from train_set\n",
    "ent_list=[]\n",
    "for i in range(len(train_set)):\n",
    "    ent = train_set[i]['entityLabels']\n",
    "    for j in range(len(ent)):\n",
    "        ent_list.append(ent[j]['entityName'])\n",
    "ent_val = np.unique(ent_list)\n",
    "print(\"entityLabels:\", ent_val)"
   ]
  },
  {
   "cell_type": "markdown",
   "id": "8a714fae",
   "metadata": {},
   "source": [
    "## Section 2 : Build a LUIS application\n",
    "### Authentication"
   ]
  },
  {
   "cell_type": "code",
   "execution_count": 9,
   "id": "8a58705e",
   "metadata": {},
   "outputs": [],
   "source": [
    "client = LUISAuthoringClient(authoringEndpoint, CognitiveServicesCredentials(authoringKey))"
   ]
  },
  {
   "cell_type": "markdown",
   "id": "c1bd4f43",
   "metadata": {},
   "source": [
    "### Create a LUIS application"
   ]
  },
  {
   "cell_type": "code",
   "execution_count": 10,
   "id": "6baf4c5f",
   "metadata": {},
   "outputs": [],
   "source": [
    "def create_app(client, appName, versionId):\n",
    "    # define app basics\n",
    "    appDefinition = ApplicationCreateObject (name=appName, initial_version_id=versionId, culture='en-us')\n",
    "\n",
    "    # create app\n",
    "    app_id = client.apps.add(appDefinition)\n",
    "\n",
    "    # get app id - necessary for all other changes\n",
    "    print(\"Created LUIS app with ID {}\".format(app_id))\n",
    "    \n",
    "    return app_id"
   ]
  },
  {
   "cell_type": "code",
   "execution_count": 11,
   "id": "e4c8b688",
   "metadata": {},
   "outputs": [
    {
     "name": "stdout",
     "output_type": "stream",
     "text": [
      "Created LUIS app with ID cc60ea3d-7f7c-4b89-b1da-ccc1eb3e41ce\n"
     ]
    },
    {
     "data": {
      "text/plain": [
       "'cc60ea3d-7f7c-4b89-b1da-ccc1eb3e41ce'"
      ]
     },
     "execution_count": 11,
     "metadata": {},
     "output_type": "execute_result"
    }
   ],
   "source": [
    "appName = \"p10app\" #+str(uuid.uuid4())\n",
    "versionId = \"0.1\"\n",
    "\n",
    "create_app(client,appName,versionId )"
   ]
  },
  {
   "cell_type": "markdown",
   "id": "d05e00f7",
   "metadata": {},
   "source": [
    "### to update after creating a new app"
   ]
  },
  {
   "cell_type": "code",
   "execution_count": 12,
   "id": "47c3b02e",
   "metadata": {},
   "outputs": [],
   "source": [
    "app_id= 'cc60ea3d-7f7c-4b89-b1da-ccc1eb3e41ce'"
   ]
  },
  {
   "cell_type": "markdown",
   "id": "6f20d999",
   "metadata": {},
   "source": [
    "### Create intents & entities & labeled examples"
   ]
  },
  {
   "cell_type": "code",
   "execution_count": 13,
   "id": "58fee0c8",
   "metadata": {},
   "outputs": [],
   "source": [
    "#add intents\n",
    "for intent_name in int_val:\n",
    "    if intent_name != 'None':\n",
    "        client.model.add_intent(app_id, versionId, intent_name)"
   ]
  },
  {
   "cell_type": "code",
   "execution_count": 14,
   "id": "9cad80fb",
   "metadata": {},
   "outputs": [],
   "source": [
    "# add entity to app\n",
    "for entity_name in ent_val:\n",
    "    client.model.add_entity(app_id, versionId, name=entity_name)"
   ]
  },
  {
   "cell_type": "code",
   "execution_count": 16,
   "id": "1bf4895e",
   "metadata": {},
   "outputs": [],
   "source": [
    "# Add labeled examples for the entity.\n",
    "for example in train_set:\n",
    "    client.examples.add(app_id, versionId, example, { \"enableNestedChildren\": False })"
   ]
  },
  {
   "cell_type": "markdown",
   "id": "cd10a842",
   "metadata": {},
   "source": [
    "## Section 3 : Training"
   ]
  },
  {
   "cell_type": "code",
   "execution_count": 17,
   "id": "cf1db568",
   "metadata": {},
   "outputs": [
    {
     "name": "stdout",
     "output_type": "stream",
     "text": [
      "Waiting 10 seconds for training to complete...\n",
      "Waiting 10 seconds for training to complete...\n",
      "The app is trained. we can now go to the LUIS portal and test it!\n"
     ]
    }
   ],
   "source": [
    "client.train.train_version(app_id, versionId)\n",
    "waiting = True\n",
    "while waiting:\n",
    "    info = client.train.get_status(app_id, versionId)\n",
    "\n",
    "    # get_status returns a list of training statuses, one for each model. Loop through them and make sure all are done.\n",
    "    waiting = any(map(lambda x: 'Queued' == x.details.status or 'InProgress' == x.details.status, info))\n",
    "    if waiting:\n",
    "        print (\"Waiting 10 seconds for training to complete...\")\n",
    "        time.sleep(10)\n",
    "    else: \n",
    "        print(\"The app is trained. we can now go to the LUIS portal and test it!\")\n",
    "        waiting = False"
   ]
  },
  {
   "cell_type": "markdown",
   "id": "842c9d57",
   "metadata": {},
   "source": [
    "## Section 4 :  Write test samples to a json file and test them in LUIS Portal"
   ]
  },
  {
   "cell_type": "code",
   "execution_count": 18,
   "id": "a9402707",
   "metadata": {},
   "outputs": [],
   "source": [
    "def convert_to_testformat(example):\n",
    "\n",
    "    #1. Get the text\n",
    "    turn1=example['turns'][0]\n",
    "    text = turn1['text']\n",
    "    #2. get all arguments\n",
    "    all_args = turn1['labels']['acts']\n",
    "\n",
    "    #3. remove greetings\n",
    "    names=[]\n",
    "    for i in range(len(all_args)):\n",
    "        name = all_args[i]['name']\n",
    "        names.append(name)\n",
    "        \n",
    "    #combine all arguments in a list\n",
    "    args=[]\n",
    "    for i in range(len(all_args)):\n",
    "        arg = all_args[i]['args']\n",
    "        args.extend(arg)\n",
    "\n",
    "    intent=\"None\"\n",
    "    entities=[]\n",
    "    for i in range(len(args)):\n",
    "        key = args[i]['key']\n",
    "        #intent\n",
    "        if key=='intent':\n",
    "            intent=args[i]['val']\n",
    "        else:\n",
    "            #entities\n",
    "            if 'val' in args[i]:\n",
    "                val = args[i]['val']\n",
    "                pos = re.search(rf'\\b({val})\\b', text)\n",
    "                if pos !=None:\n",
    "                    entity={\n",
    "                          \"entity\": key,\n",
    "                          \"startpos\": pos.start(),\n",
    "                          \"endpos\": pos.end()-1,\n",
    "                          \"children\": []\n",
    "                            }\n",
    "                    entities.append(entity)\n",
    "\n",
    "\n",
    "    #4. put all together\n",
    "    return {\n",
    "          \"text\": text,\n",
    "          \"intent\": intent,\n",
    "          \"entities\": entities\n",
    "        }"
   ]
  },
  {
   "cell_type": "code",
   "execution_count": 19,
   "id": "5a6cd3e0",
   "metadata": {},
   "outputs": [],
   "source": [
    "test_set= [convert_to_testformat(example) for example in test_list]"
   ]
  },
  {
   "cell_type": "code",
   "execution_count": 20,
   "id": "37f86bdd",
   "metadata": {},
   "outputs": [],
   "source": [
    "with open('test_import.json', 'w', encoding='utf-8') as f:\n",
    "    json.dump(test_set, f, ensure_ascii=False, indent=4)"
   ]
  },
  {
   "cell_type": "markdown",
   "id": "a19e4c72",
   "metadata": {},
   "source": [
    "## Section 5 : Publish the trained application"
   ]
  },
  {
   "cell_type": "code",
   "execution_count": 22,
   "id": "66de14f5",
   "metadata": {},
   "outputs": [],
   "source": [
    "# Mark the app as public so we can query it using any prediction endpoint.\n",
    "# Note: For production scenarios, you should instead assign the app to your own LUIS prediction endpoint. See:\n",
    "# https://docs.microsoft.com/en-gb/azure/cognitive-services/luis/luis-how-to-azure-subscription#assign-a-resource-to-an-app\n",
    "client.apps.update_settings(app_id, is_public=True)\n",
    "\n",
    "responseEndpointInfo = client.apps.publish(app_id, versionId, is_staging=False)"
   ]
  },
  {
   "cell_type": "code",
   "execution_count": 23,
   "id": "7671604c",
   "metadata": {},
   "outputs": [
    {
     "name": "stdout",
     "output_type": "stream",
     "text": [
      "Your app is published. You can now go to test it on\n",
      "https://westeurope.api.cognitive.microsoft.com/luis/v2.0/apps/cc60ea3d-7f7c-4b89-b1da-ccc1eb3e41ce?subscription-key=7fd25c6de2424141a15401435e068296&q=\n"
     ]
    }
   ],
   "source": [
    "endpoint = responseEndpointInfo.endpoint_url + \\\n",
    "    \"?subscription-key=\" + authoringKey + \"&q=\"\n",
    "print(\"Your app is published. You can now go to test it on\\n{}\".format(endpoint))"
   ]
  },
  {
   "cell_type": "markdown",
   "id": "318c7b43",
   "metadata": {},
   "source": [
    "## Section 6 : query the application for prediction"
   ]
  },
  {
   "cell_type": "code",
   "execution_count": 24,
   "id": "f3f8cb1a",
   "metadata": {},
   "outputs": [
    {
     "name": "stdout",
     "output_type": "stream",
     "text": [
      "query for prediction: Hi there! Got anything from Kabul to Tel Aviv?\n"
     ]
    }
   ],
   "source": [
    "#query\n",
    "query_text = test_set[10]['text']\n",
    "print(\"query for prediction:\", query_text)"
   ]
  },
  {
   "cell_type": "markdown",
   "id": "b32cb445",
   "metadata": {},
   "source": [
    "### 1.  using runtime client"
   ]
  },
  {
   "cell_type": "code",
   "execution_count": 25,
   "id": "163cb3c5",
   "metadata": {},
   "outputs": [
    {
     "name": "stdout",
     "output_type": "stream",
     "text": [
      "Top intent: None\n",
      "Intents: \n",
      "\t\"None\"\n",
      "Entities: {'or_city': ['Kabul'], 'dst_city': ['Tel Aviv']}\n"
     ]
    }
   ],
   "source": [
    "#authentication with credentials\n",
    "runtimeCredentials = CognitiveServicesCredentials(predictionKey)\n",
    "clientRuntime = LUISRuntimeClient(endpoint=predictionEndpoint, credentials=runtimeCredentials)\n",
    "\n",
    "\n",
    "# Production == slot name\n",
    "predictionRequest = { \"query\" : query_text}\n",
    "\n",
    "predictionResponse = clientRuntime.prediction.get_slot_prediction(app_id, \"Production\", predictionRequest)\n",
    "print(\"Top intent: {}\".format(predictionResponse.prediction.top_intent))\n",
    "print(\"Intents: \")\n",
    "\n",
    "for intent in predictionResponse.prediction.intents:\n",
    "    print(\"\\t{}\".format (json.dumps (intent)))\n",
    "print(\"Entities: {}\".format (predictionResponse.prediction.entities))"
   ]
  },
  {
   "cell_type": "markdown",
   "id": "0f43db2a",
   "metadata": {},
   "source": [
    "### 2. Using get request"
   ]
  },
  {
   "cell_type": "code",
   "execution_count": 26,
   "id": "e7439346",
   "metadata": {},
   "outputs": [
    {
     "data": {
      "text/plain": [
       "{'None': {'score': 0.867}, 'book': {'score': 0.7313308}}"
      ]
     },
     "execution_count": 26,
     "metadata": {},
     "output_type": "execute_result"
    }
   ],
   "source": [
    "import requests\n",
    "\n",
    "luisURL=\"https://my-langserv.cognitiveservices.azure.com/luis/prediction/v3.0/apps/cc60ea3d-7f7c-4b89-b1da-ccc1eb3e41ce/slots/production/predict?verbose=true&show-all-intents=true&log=true&subscription-key=d5241c0c3da14d4cba68a3898dd58136&query=\"\n",
    "\n",
    "r = requests.get(luisURL + query_text)\n",
    "r.json()['prediction']['intents']"
   ]
  },
  {
   "cell_type": "code",
   "execution_count": null,
   "id": "f83deb1a",
   "metadata": {},
   "outputs": [],
   "source": []
  }
 ],
 "metadata": {
  "kernelspec": {
   "display_name": "Python 3 (ipykernel)",
   "language": "python",
   "name": "python3"
  },
  "language_info": {
   "codemirror_mode": {
    "name": "ipython",
    "version": 3
   },
   "file_extension": ".py",
   "mimetype": "text/x-python",
   "name": "python",
   "nbconvert_exporter": "python",
   "pygments_lexer": "ipython3",
   "version": "3.9.7"
  }
 },
 "nbformat": 4,
 "nbformat_minor": 5
}
